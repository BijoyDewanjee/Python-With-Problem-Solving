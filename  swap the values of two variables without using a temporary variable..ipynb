{
 "cells": [
  {
   "cell_type": "code",
   "execution_count": 1,
   "id": "ee2e9a35",
   "metadata": {},
   "outputs": [
    {
     "name": "stdout",
     "output_type": "stream",
     "text": [
      "Enter the value of a : 10\n",
      "Enter the value of b : 5\n",
      "Before swapping: a = 10 , b = 5\n",
      "After swapping: a = 5 , b = 10\n"
     ]
    }
   ],
   "source": [
    "a=int(input(\"Enter the value of a : \"))\n",
    "b=int(input(\"Enter the value of b : \"))\n",
    "print(\"Before swapping: a =\", a, \", b =\", b)\n",
    "a = a + b\n",
    "b = a - b\n",
    "a = a - b\n",
    "print(\"After swapping: a =\", a, \", b =\", b)\n"
   ]
  },
  {
   "cell_type": "markdown",
   "id": "27d4b105",
   "metadata": {},
   "source": [
    "# OR"
   ]
  },
  {
   "cell_type": "code",
   "execution_count": 2,
   "id": "b03b3ce3",
   "metadata": {},
   "outputs": [
    {
     "name": "stdout",
     "output_type": "stream",
     "text": [
      "Enter the value of a : -20\n",
      "Enter the value of b : 10\n",
      "Before swapping: a = -20 , b = 10\n",
      "After swapping: a = 10 , b = -20\n"
     ]
    }
   ],
   "source": [
    "a=int(input(\"Enter the value of a : \"))\n",
    "b=int(input(\"Enter the value of b : \"))\n",
    "\n",
    "print(\"Before swapping: a =\", a, \", b =\", b)\n",
    "\n",
    "a = a + b\n",
    "b = a - b\n",
    "a = a - b\n",
    "\n",
    "print(\"After swapping: a =\", a, \", b =\", b)\n"
   ]
  },
  {
   "cell_type": "markdown",
   "id": "8bf81031",
   "metadata": {},
   "source": [
    "# OR"
   ]
  },
  {
   "cell_type": "code",
   "execution_count": 3,
   "id": "64110fba",
   "metadata": {},
   "outputs": [
    {
     "name": "stdout",
     "output_type": "stream",
     "text": [
      "Enter the value of a : 35\n",
      "Enter the value of b : 55\n",
      "Before swapping: a = 35 , b = 55\n",
      "After swapping: a = 55 , b = 35\n"
     ]
    }
   ],
   "source": [
    "a=int(input(\"Enter the value of a : \"))\n",
    "b=int(input(\"Enter the value of b : \"))\n",
    "print(\"Before swapping: a =\", a, \", b =\", b)\n",
    "a = a ^ b\n",
    "b = a ^ b\n",
    "a = a ^ b\n",
    "print(\"After swapping: a =\", a, \", b =\", b)"
   ]
  },
  {
   "cell_type": "code",
   "execution_count": null,
   "id": "7aec47cc",
   "metadata": {},
   "outputs": [],
   "source": []
  }
 ],
 "metadata": {
  "kernelspec": {
   "display_name": "Python 3 (ipykernel)",
   "language": "python",
   "name": "python3"
  },
  "language_info": {
   "codemirror_mode": {
    "name": "ipython",
    "version": 3
   },
   "file_extension": ".py",
   "mimetype": "text/x-python",
   "name": "python",
   "nbconvert_exporter": "python",
   "pygments_lexer": "ipython3",
   "version": "3.9.12"
  }
 },
 "nbformat": 4,
 "nbformat_minor": 5
}
